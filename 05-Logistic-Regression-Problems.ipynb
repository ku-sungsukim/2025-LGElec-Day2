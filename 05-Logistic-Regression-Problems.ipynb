{
 "cells": [
  {
   "cell_type": "code",
   "execution_count": null,
   "metadata": {},
   "outputs": [],
   "source": [
    "\"\"\" github 연동 \"\"\"\n",
    "!git clone https://github.com/ku-sungsukim/2025-LGElec-Day2.git ### colab 사용시"
   ]
  },
  {
   "cell_type": "markdown",
   "metadata": {},
   "source": [
    "## **0. 필요 패키지 불러오기**"
   ]
  },
  {
   "cell_type": "code",
   "execution_count": null,
   "metadata": {},
   "outputs": [],
   "source": [
    "\"\"\" 데이터처리 관련 패키지 \"\"\"\n",
    "import numpy as np\n",
    "import pandas as pd\n",
    "from sklearn.preprocessing import StandardScaler\n",
    "\n",
    "\n",
    "\"\"\" 기계학습 모델 구축 및 평가 패키지 \"\"\"\n",
    "from sklearn.linear_model import LogisticRegression\n",
    "from sklearn.model_selection import train_test_split\n",
    "from sklearn.metrics import accuracy_score, recall_score, precision_score\n",
    "\n",
    "\n",
    "\"\"\" 데이터 시각화 패키지 \"\"\"\n",
    "import matplotlib.pyplot as plt\n",
    "\n",
    "\n",
    "\"\"\" 경고 숨기기 \"\"\"\n",
    "import warnings\n",
    "warnings.filterwarnings(action='ignore')"
   ]
  },
  {
   "cell_type": "markdown",
   "metadata": {},
   "source": [
    "## **1. 데이터 핸들링 및 탐색적 데이터 분석**\n",
    " - 분석데이터: Parkinson 질병 예측\n",
    " \n",
    "   This dataset is composed of a range of biomedical voice measurements from 31 people, 23 with Parkinson's disease (PD). Each column in the table is a particular voice measure, and each row corresponds one of 195 voice recording from these individuals (\"name\" column). The main aim of the data is to discriminate healthy people from those with PD, according to \"status\" column which is set to 0 for healthy and 1 for PD.\n",
    "\n",
    "   The data is in ASCII CSV format. The rows of the CSV file contain an instance corresponding to one voice recording. There are around six recordings per patient, the name of the patient is identified in the first column.For further information or to pass on comments, please contact Max Little (littlem '@' robots.ox.ac.uk).\n",
    "\n",
    "   Further details are contained in the following reference -- if you use this dataset, please cite:\n",
    "   Max A. Little, Patrick E. McSharry, Eric J. Hunter, Lorraine O. Ramig (2008), 'Suitability of dysphonia measurements for telemonitoring of Parkinson's disease', IEEE Transactions on Biomedical Engineering (to appear).\n",
    "\n",
    "#### **반응변수**\n",
    " - status (0: 정상 / 1: 환자)"
   ]
  },
  {
   "cell_type": "markdown",
   "metadata": {},
   "source": [
    "#### **1-1. 데이터 불러오기 및 개요 파악**"
   ]
  },
  {
   "cell_type": "code",
   "execution_count": null,
   "metadata": {},
   "outputs": [],
   "source": [
    "\"\"\" 데이터 불러오기 \"\"\"\n",
    "# data = pd.read_csv('data/Parkinson.csv') ### 로컬 사용시\n",
    "data = pd.read_csv('/content/2025-LGElec-Day2/data/Parkinson.csv') ### colab 사용시"
   ]
  },
  {
   "cell_type": "code",
   "execution_count": null,
   "metadata": {},
   "outputs": [],
   "source": [
    "\"\"\" 데이터 상위 7개 Row 확인 \"\"\"\n",
    "data.'''Answer'''"
   ]
  },
  {
   "cell_type": "code",
   "execution_count": null,
   "metadata": {},
   "outputs": [],
   "source": [
    "\"\"\" 데이터 크기 확인 \"\"\"\n",
    "data.'''Answer'''"
   ]
  },
  {
   "cell_type": "code",
   "execution_count": null,
   "metadata": {},
   "outputs": [],
   "source": [
    "\"\"\" 데이터 전체 변수명 확인 \"\"\"\n",
    "data.'''Answer'''"
   ]
  },
  {
   "cell_type": "markdown",
   "metadata": {},
   "source": [
    "#### **1-2. 탐색적 데이터 분석**"
   ]
  },
  {
   "cell_type": "code",
   "execution_count": null,
   "metadata": {},
   "outputs": [],
   "source": [
    "\"\"\" 데이터 결측치 여부 및 변수 타입 확인 \"\"\"\n",
    "data.'''Answer'''"
   ]
  },
  {
   "cell_type": "code",
   "execution_count": null,
   "metadata": {},
   "outputs": [],
   "source": [
    "\"\"\" 분석에 불필요한 변수 삭제\"\"\"\n",
    "\n",
    "\"\"\"\n",
    "1. 불필요변수: 'name'\n",
    "\"\"\"\n",
    "\n",
    "data = data.'''Answer'''\n",
    "data.shape"
   ]
  },
  {
   "cell_type": "code",
   "execution_count": null,
   "metadata": {},
   "outputs": [],
   "source": [
    "\"\"\" 각 변수별 통계량 확인 \"\"\"\n",
    "data.'''Answer'''"
   ]
  },
  {
   "cell_type": "code",
   "execution_count": null,
   "metadata": {},
   "outputs": [],
   "source": [
    "\"\"\" Y Class 별 데이터 개수 확인 \"\"\"\n",
    "class0 = '''Answer'''\n",
    "class1 = '''Answer'''\n",
    "\n",
    "print(f'정상: {class0.shape}')\n",
    "print(f'환자: {class1.shape}')"
   ]
  },
  {
   "cell_type": "markdown",
   "metadata": {},
   "source": [
    "#### **1-2. 탐색적 데이터 분석**"
   ]
  },
  {
   "cell_type": "code",
   "execution_count": null,
   "metadata": {},
   "outputs": [],
   "source": [
    "\"\"\" 변수 별 Class 분포 확인 \"\"\"\n",
    "\n",
    "\"\"\"\n",
    "1. Figure 크기는 20x15로 설정\n",
    "2. 전체 23개 그래프를 8x3 그리드에 표현\n",
    "3. class0과 class1를 함께 표현하며, 전체 구간을 30으로 나누며, 투명도는 0.3으로 설정\n",
    "4. 범례는 normal 및 parkinson으로 표현\n",
    "5. title은 각 column명으로 설정\n",
    "\"\"\"\n",
    "\n",
    "plt.figure('''Answer''')\n",
    "\n",
    "for i, colname in enumerate(data.columns):\n",
    "    plt.subplot('''Answer''') \n",
    "    plt.hist('''Answer''')\n",
    "    plt.hist('''Answer''')\n",
    "    plt.title('''Answer''') \n",
    "    plt.legend('''Answer''') \n",
    "    plt.tight_layout()"
   ]
  },
  {
   "cell_type": "markdown",
   "metadata": {},
   "source": [
    "## **2. 데이터 분할 및 스케일링**"
   ]
  },
  {
   "cell_type": "code",
   "execution_count": null,
   "metadata": {},
   "outputs": [],
   "source": [
    "\"\"\" X변수와 Y변수 나누기 \"\"\"\n",
    "\n",
    "\"\"\"\n",
    "1. X변수: status를 제외한 모든 변수\n",
    "2. Y변수: status\n",
    "\"\"\"\n",
    "\n",
    "X = '''Answer'''\n",
    "y = '''Answer'''\n",
    "\n",
    "X.shape, y.shape"
   ]
  },
  {
   "cell_type": "code",
   "execution_count": null,
   "metadata": {},
   "outputs": [],
   "source": [
    "\"\"\" 학습데이터와 평가데이터 분할 \"\"\"\n",
    "\n",
    "\"\"\"\n",
    "1. 분할비율: 학습데이터(70%) / 평가데이터(30%)\n",
    "\"\"\"\n",
    "\n",
    "X_train, X_test, y_train, y_test = train_test_split(X, y,\n",
    "                                                   '''Answer''',\n",
    "                                                   random_state=216)\n",
    "\n",
    "print(f'X_train: {X_train.shape} | X_test: {X_test.shape} | y_train: {y_train.shape} | y_test: {y_test.shape}')"
   ]
  },
  {
   "cell_type": "code",
   "execution_count": null,
   "metadata": {},
   "outputs": [],
   "source": [
    "\"\"\" X변수들을 각 변수 단위로 표준 정규화 \"\"\"\n",
    "\n",
    "\"\"\"\n",
    "1. StandardScaler를 활용할 것\n",
    "2. 학습데이터 및 평가데이터 모두 정규화\n",
    " - 반드시 학습데이터에서 활용한 파라미터로 평가데이터를 정규화할 것\n",
    "\"\"\"\n",
    "\n",
    "scaler = '''Answer'''\n",
    "X_train = scaler.'''Answer'''(X_train)\n",
    "X_test = scaler.'''Answer'''(X_test) \n",
    "\n",
    "X_train = pd.DataFrame(X_train, columns = X.columns) \n",
    "X_test = pd.DataFrame(X_test, columns = X.columns)\n",
    "\n",
    "X_train"
   ]
  },
  {
   "cell_type": "markdown",
   "metadata": {},
   "source": [
    "## **3. 모델링**"
   ]
  },
  {
   "cell_type": "markdown",
   "metadata": {},
   "source": [
    "#### **3-1. 모델 학습 (파라미터 도출)**"
   ]
  },
  {
   "cell_type": "code",
   "execution_count": null,
   "metadata": {},
   "outputs": [],
   "source": [
    "\"\"\" 모델 학습 (파라미터 산출) \"\"\"\n",
    "\n",
    "\"\"\"\n",
    "1. sklearn을 활용할 것\n",
    "\"\"\"\n",
    "\n",
    "model = '''Answer'''\n",
    "model.'''Answer'''(X_train, y_train)"
   ]
  },
  {
   "cell_type": "markdown",
   "metadata": {},
   "source": [
    "#### **3-2. 모델 결과해석**\n",
    " - 로지스틱 회귀모형의 β0, β1, β2 ...를 활용한 결과 해석"
   ]
  },
  {
   "cell_type": "code",
   "execution_count": null,
   "metadata": {},
   "outputs": [],
   "source": [
    "\"\"\" 산출된 β0값 확인 \"\"\"\n",
    "print(model.'''Answer''')"
   ]
  },
  {
   "cell_type": "code",
   "execution_count": null,
   "metadata": {},
   "outputs": [],
   "source": [
    "\"\"\" 산출된 coefficient값(β1, β2, β3...) 확인 \"\"\"\n",
    "print(model.'''Answer''')"
   ]
  },
  {
   "cell_type": "code",
   "execution_count": null,
   "metadata": {},
   "outputs": [],
   "source": [
    "\"\"\" β값 분석 \"\"\"\n",
    "\n",
    "\"\"\"\n",
    "1. beta값을 활용하여 개별 변수의 risky 또는 protective 여부 판별\n",
    " - 판별 기준은 odds값을 활용\n",
    " - 데이터프레임으로 보기 쉽게 정리할 것\n",
    " - beta와 odds의 반올림은 무조건 소수 셋째자리에서 할 것\n",
    "\"\"\"\n",
    "\n",
    "beta = '''Answer'''\n",
    "odds = '''Answer'''\n",
    "interpret = np.where('''Answer''') \n",
    "column_name = [\"const\"] + X.columns.tolist()\n",
    "\n",
    "beta_analysis = pd.DataFrame('''Answer''')\n",
    "beta_analysis"
   ]
  },
  {
   "cell_type": "markdown",
   "metadata": {},
   "source": [
    "#### **3-4. 모델평가**"
   ]
  },
  {
   "cell_type": "code",
   "execution_count": null,
   "metadata": {},
   "outputs": [],
   "source": [
    "\"\"\" test 데이터에 대한 예측값 산출 (패키지) \"\"\"\n",
    "\n",
    "\"\"\"\n",
    "1. 최초 Index 20개의 확률을 출력할 것\n",
    "2. 반올림을 소수 셋째자리까지 할 것\n",
    "\"\"\"\n",
    "\n",
    "model_pred = model.'''Answer'''(X_test)\n",
    "print(model_pred'''Answer''')"
   ]
  },
  {
   "cell_type": "code",
   "execution_count": null,
   "metadata": {},
   "outputs": [],
   "source": [
    "\"\"\" test 데이터에 대한 예측값 산출 (직접 계산 & 패키지 연산) \"\"\"\n",
    "\n",
    "\"\"\"\n",
    "1. 기존 X와 산출된 β를 곱하여 확률을 직접 산출\n",
    "2. P(Y=0)만 필터링\n",
    "3. 직접 계산한 것과 패키지를 통해 계산한 값을 비교 (10개 결과만 보일 것)\n",
    "\"\"\"\n",
    "\n",
    "\"\"\" 직접 계산 \"\"\"\n",
    "component_x = '''Answer'''\n",
    "component_beta = beta.reshape(-1, 1) \n",
    "Xbeta = '''Answer'''\n",
    "P_1_human = '''Answer'''\n",
    "\n",
    "\"\"\" 패키지 연산 \"\"\"\n",
    "P_1_package = '''Answer'''\n",
    "\n",
    "\"\"\" Summary \"\"\"\n",
    "pd.DataFrame(np.concatenate([P_1_human, P_1_package],axis=1),\n",
    "            columns=['직접계산', '패키지계산']).head(10)"
   ]
  },
  {
   "cell_type": "code",
   "execution_count": null,
   "metadata": {},
   "outputs": [],
   "source": [
    "\"\"\" Cutoff를 변화하며 성능 변화 관찰 \"\"\"\n",
    "\n",
    "\"\"\"\n",
    "1. cutoff 범위: [0, 1] 범위에서 0.05 수준으로 확인 (0, 0.05, 1 ..., 0.9, 0.95, 1)\n",
    "2. 정확도(Accuracy), 민감도(Recall), 정밀도(Precision)를 비교할 것\n",
    "\"\"\"\n",
    "\n",
    "cutoffs = np.linspace('''Answer''') \n",
    "for cutoff in cutoffs:\n",
    "    y_pred = np.where('''Answer''') \n",
    "    acc = '''Answer'''\n",
    "    recall = '''Answer'''\n",
    "    precision = '''Answer'''\n",
    "    \n",
    "    print(f\"cutoff:{cutoff:0.2f}\", f\"정확도:{acc:0.2f}\", f\"민감도:{recall:0.2f}\", f\"정밀도:{precision:0.2f}\", sep='  |  ')  "
   ]
  },
  {
   "cell_type": "markdown",
   "metadata": {},
   "source": [
    "# **EOD**"
   ]
  }
 ],
 "metadata": {
  "kernelspec": {
   "display_name": "Python 3",
   "language": "python",
   "name": "python3"
  },
  "language_info": {
   "codemirror_mode": {
    "name": "ipython",
    "version": 3
   },
   "file_extension": ".py",
   "mimetype": "text/x-python",
   "name": "python",
   "nbconvert_exporter": "python",
   "pygments_lexer": "ipython3",
   "version": "3.8.10"
  },
  "toc": {
   "base_numbering": 1,
   "nav_menu": {},
   "number_sections": true,
   "sideBar": true,
   "skip_h1_title": false,
   "title_cell": "Table of Contents",
   "title_sidebar": "Contents",
   "toc_cell": false,
   "toc_position": {
    "height": "calc(100% - 180px)",
    "left": "10px",
    "top": "150px",
    "width": "307.2px"
   },
   "toc_section_display": true,
   "toc_window_display": true
  },
  "vscode": {
   "interpreter": {
    "hash": "e7370f93d1d0cde622a1f8e1c04877d8463912d04d973331ad4851f04de6915a"
   }
  }
 },
 "nbformat": 4,
 "nbformat_minor": 2
}
