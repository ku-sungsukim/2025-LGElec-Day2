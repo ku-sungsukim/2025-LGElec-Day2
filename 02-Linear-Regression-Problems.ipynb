{
 "cells": [
  {
   "cell_type": "code",
   "execution_count": null,
   "metadata": {},
   "outputs": [],
   "source": [
    "\"\"\" github 연동 \"\"\"\n",
    "!git clone https://github.com/ku-sungsukim/2025-LGElec-Day2.git ### colab 사용시"
   ]
  },
  {
   "cell_type": "markdown",
   "metadata": {},
   "source": [
    "## **0. 필요 패키지 불러오기**"
   ]
  },
  {
   "cell_type": "code",
   "execution_count": null,
   "metadata": {},
   "outputs": [],
   "source": [
    "\"\"\" 데이터 전처리 관련 패키지 \"\"\"\n",
    "import numpy as np\n",
    "import pandas as pd\n",
    "\n",
    "\n",
    "\"\"\" 기계학습 모델 구축 및 평가 패키지 \"\"\"\n",
    "import statsmodels.api as sm\n",
    "from sklearn.linear_model import LinearRegression\n",
    "from sklearn.model_selection import train_test_split\n",
    "from sklearn.metrics import mean_squared_error, r2_score, mean_absolute_error\n",
    "\n",
    "\n",
    "\"\"\" 데이터 시각화 패키지 \"\"\"\n",
    "import seaborn as sns\n",
    "import matplotlib.pyplot as plt\n",
    "\n",
    "\n",
    "\"\"\" 경고 숨기기 \"\"\"\n",
    "import warnings\n",
    "warnings.filterwarnings(action='ignore')"
   ]
  },
  {
   "cell_type": "markdown",
   "metadata": {},
   "source": [
    "## **1. 데이터 핸들링 및 탐색적 데이터 분석**\n",
    " - 분석 데이터: Toyota 중고차 가격 예측\n",
    "\n",
    "#### **설명변수**\n",
    "- Id : Record_ID\n",
    "- Model : Model Description\n",
    "- Age_08_04 : Age in months as in August 2004\n",
    "- Mfg_Month : Manufacturing month (1-12)\n",
    "- Mfg_Year : Manufacturing Year\n",
    "- KM : Accumulated Kilometers on odometer\n",
    "- Fuel_Type : Fuel Type (Petrol, Diesel, CNG)\n",
    "- HP : Horse Power\n",
    "- Met_Color : Metallic Color (Yes=1, No=0)\n",
    "- Color : Color (Blue, Red, Grey, Silver, Black, etc.)\n",
    "- Automatic : Automatic (Yes=1, No=0)\n",
    "- CC : Cylinder Volume in cubic centimeters\n",
    "- Doors : Number of doors\n",
    "- Cylinders : Number of cylinders\n",
    "- Gears : Number of gear positions\n",
    "- Quarterly_Tax : Quarterly road tax in EUROs\n",
    "- Weight : Weight in Kilograms\n",
    "- Mfr_Guarantee : Within Manufacturer's Guarantee period (Yes=1, No=0)\n",
    "- BOVAG_Guarantee : BOVAG (Dutch dealer network) Guarantee (Yes=1, No=0)\n",
    "- Guarantee_Period : Guarantee period in months\n",
    "- ABS : Anti-Lock Brake System (Yes=1, No=0)\n",
    "- Airbag_1 : Driver_Airbag (Yes=1, No=0)\n",
    "- Airbag_2 : Passenger Airbag (Yes=1, No=0)\n",
    "- Airco : Airconditioning (Yes=1, No=0)\n",
    "- Automatic_airco : Automatic Airconditioning (Yes=1, No=0)\n",
    "- Boardcomputer : Boardcomputer (Yes=1, No=0)\n",
    "- CD_Player : CD Player (Yes=1, No=0)\n",
    "- Central_Lock : Central Lock (Yes=1, No=0)\n",
    "- Powered_Windows : Powered Windows (Yes=1, No=0)\n",
    "- Power_Steering : Power Steering (Yes=1, No=0)\n",
    "- Radio : Radio (Yes=1, No=0)\n",
    "- Mistlamps : Mistlamps (Yes=1, No=0)\n",
    "- Sport_Model : Sport Model (Yes=1, No=0)\n",
    "- Backseat_Divider : Backseat Divider (Yes=1, No=0)\n",
    "- Metallic_Rim : Metallic Rim (Yes=1, No=0)\n",
    "- Radio_cassette : Radio Cassette (Yes=1, No=0)\n",
    "- Parking_Assistant : Parking assistance system (Yes=1, No=0)\n",
    "- Tow_Bar : Tow Bar (Yes=1, No=0)\n",
    "\n",
    "#### **반응변수**\n",
    "- Price : Offer Price in EUROs"
   ]
  },
  {
   "cell_type": "markdown",
   "metadata": {},
   "source": [
    "#### **1-1. 데이터 불러오기 및 개요 파악**"
   ]
  },
  {
   "cell_type": "code",
   "execution_count": null,
   "metadata": {
    "scrolled": true
   },
   "outputs": [],
   "source": [
    "\"\"\" 데이터 불러오기 \"\"\"\n",
    "# data = pd.read_csv('data/ToyotaCorolla.csv') ### 로컬 사용시\n",
    "data = pd.read_csv('/content/2025-LGElec-Day2/data/ToyotaCorolla.csv') ### colab 사용시"
   ]
  },
  {
   "cell_type": "code",
   "execution_count": null,
   "metadata": {},
   "outputs": [],
   "source": [
    "\"\"\" 데이터 상위 5개 Row 확인 \"\"\"\n",
    "data.'''Answer'''"
   ]
  },
  {
   "cell_type": "code",
   "execution_count": null,
   "metadata": {
    "scrolled": true
   },
   "outputs": [],
   "source": [
    "\"\"\" 데이터 크기 확인 \"\"\"\n",
    "data.'''Answer'''"
   ]
  },
  {
   "cell_type": "markdown",
   "metadata": {},
   "source": [
    "#### **1-2. 탐색적 데이터 분석**"
   ]
  },
  {
   "cell_type": "code",
   "execution_count": null,
   "metadata": {},
   "outputs": [],
   "source": [
    "\"\"\" 데이터 결측치 여부 및 변수 타입 확인 \"\"\"\n",
    "data.'''Answer'''"
   ]
  },
  {
   "cell_type": "code",
   "execution_count": null,
   "metadata": {
    "scrolled": false
   },
   "outputs": [],
   "source": [
    "\"\"\" 각 변수별 통계량 확인 \"\"\"\n",
    "data.'''Answer'''"
   ]
  },
  {
   "cell_type": "code",
   "execution_count": null,
   "metadata": {},
   "outputs": [],
   "source": [
    "\"\"\" pairplot을 통한 각 변수 간 관계성 파악 \"\"\"\n",
    "\n",
    "\"\"\"\n",
    "1. cc, Mfg_Year, HP, KM, Price 변수들에 대해서만 시각화\n",
    "\"\"\"\n",
    "\n",
    "sns.pairplot(data['''Answer'''])\n",
    "plt.show()"
   ]
  },
  {
   "cell_type": "code",
   "execution_count": null,
   "metadata": {},
   "outputs": [],
   "source": [
    "\"\"\" 상관관계 히트맵을 통한 변수 간 상관관계 분석 \"\"\"\n",
    "\n",
    "\"\"\"\n",
    "1. cc, Mfg_Year, HP, KM, Price 변수들에 대해서만 시각화\n",
    "2. Figure 크기: 높이 및 너비 모두 10, 10\n",
    "3. annotation을 상관관계 값으로 표기할 것\n",
    "4. annotation 폰트 크기: 10\n",
    "\"\"\"\n",
    "\n",
    "plt.figure('''Answer''')\n",
    "sns.heatmap(\n",
    "    data['''Answer'''].'''Answer''', \n",
    "    cmap=sns.color_palette(\"coolwarm\", 10), \n",
    "    annot='''Answer''',\n",
    "    annot_kws={'''Answer'''}\n",
    "    ) \n",
    "plt.show()"
   ]
  },
  {
   "cell_type": "markdown",
   "metadata": {},
   "source": [
    "## **2. 데이터 분할**"
   ]
  },
  {
   "cell_type": "code",
   "execution_count": null,
   "metadata": {},
   "outputs": [],
   "source": [
    "\"\"\" 예측에 필요하지 않은 변수 제거 \"\"\"\n",
    "\n",
    "\"\"\"\n",
    "1. 불필요 변수: Id, Model, Fuel_Type\n",
    "\"\"\"\n",
    "\n",
    "data = data.'''Answer'''\n",
    "data.head()"
   ]
  },
  {
   "cell_type": "code",
   "execution_count": null,
   "metadata": {},
   "outputs": [],
   "source": [
    "\"\"\" 학습데이터와 평가데이터 분할\"\"\"\n",
    "\n",
    "\"\"\"\n",
    "1. X, y변수 구분\n",
    "  - X: 전체 데이터에서 Price 변수를 제외한 모든 변수\n",
    "  - Y: Price 변수\n",
    "2. 학습데이터:평가데이터 = 7:3으로 나눌 것\n",
    "3. random_state: 216\n",
    "\"\"\"\n",
    "\n",
    "X = data.'''Answer'''\n",
    "y = data['''Answer''']\n",
    "\n",
    "X_train, X_test, y_train, y_test = train_test_split('''Answer''')\n",
    "\n",
    "X_train.shape, X_test.shape, y_train.shape, y_test.shape"
   ]
  },
  {
   "cell_type": "markdown",
   "metadata": {},
   "source": [
    "## **3. 모델링**"
   ]
  },
  {
   "cell_type": "markdown",
   "metadata": {},
   "source": [
    "#### **3-1. 모델 학습 (파라미터 도출)**\n",
    " - 이때, statsmodels 패키지를 활용하여 회귀모형을 적합"
   ]
  },
  {
   "cell_type": "code",
   "execution_count": null,
   "metadata": {},
   "outputs": [],
   "source": [
    "\"\"\" 회귀분석을 위한 상수항 추가 \"\"\"\n",
    "\n",
    "\"\"\"\n",
    "1. train 데이터와 test 데이터 모두 추가\n",
    "\"\"\"\n",
    "\n",
    "X_train = sm.'''Answer'''\n",
    "X_test = sm.'''Answer'''"
   ]
  },
  {
   "cell_type": "code",
   "execution_count": null,
   "metadata": {},
   "outputs": [],
   "source": [
    "\"\"\" 회귀모형 파라미터 도출 \"\"\"\n",
    "lm = sm.OLS('''Answer''')\n",
    "lm_trained = '''Answer'''"
   ]
  },
  {
   "cell_type": "code",
   "execution_count": null,
   "metadata": {},
   "outputs": [],
   "source": [
    "\"\"\" train 데이터의 예측 결과 비교 \"\"\"\n",
    "\n",
    "\"\"\"\n",
    "1. Figure 크기는 너비 및 높이 모두 12로 지정\n",
    " - X축: 실제값\n",
    " - Y축: 예측값\n",
    "2. y=x 그래프를 그릴 것 (범위: [4000, 35000] / 색깔: 빨간색)\n",
    "3. Figure 제목 및 축 제목 지정\n",
    " - Figure 제목: Prediction Result for Train Data\n",
    " - X축: Lable Value (폰트크기: 20)\n",
    " - Y축: Prediction Value (폰트크기: 20)\n",
    "4. Figure에 시각화 할 X축 및 Y축 범위를 모두 [4000, 35000]로 지정\n",
    "\"\"\"\n",
    "\n",
    "y_train_pred = lm_trained.fittedvalues \n",
    "\n",
    "plt.figure(figsize='''Answer''') \n",
    "\n",
    "plt.scatter(y_train, y_train_pred) \n",
    "plt.plot('''Answer''') \n",
    "\n",
    "plt.title('''Answer''') \n",
    "plt.xlabel('''Answer''') \n",
    "plt.ylabel('''Answer''') \n",
    "\n",
    "plt.xlim('''Answer''') \n",
    "plt.ylim('''Answer''') \n",
    "\n",
    "plt.show()"
   ]
  },
  {
   "cell_type": "markdown",
   "metadata": {},
   "source": [
    "#### **3-2. 선형회귀 모델의 가정 충족여부 확인**"
   ]
  },
  {
   "cell_type": "code",
   "execution_count": null,
   "metadata": {},
   "outputs": [],
   "source": [
    "\"\"\" 오차 값 확인 \"\"\"\n",
    "model_residuals = lm_trained.'''Answer'''\n",
    "model_residuals"
   ]
  },
  {
   "cell_type": "code",
   "execution_count": null,
   "metadata": {},
   "outputs": [],
   "source": [
    "\"\"\" 오차의 정규성 확인 \"\"\"\n",
    "\n",
    "\"\"\"\n",
    "1. QQ-plot으로 오차의 정규성 분석\n",
    " - 이미지 너비 및 높이: 12\n",
    " - Figure Title: QQ Plot\n",
    " - 표준정규분포선 표시\n",
    "\"\"\"\n",
    "\n",
    "plt.rcParams['axes.unicode_minus'] = False ### 음수 폰트 깨짐 방지\n",
    "\n",
    "fig, ax = plt.subplots(1, 1) \n",
    "fig.set_figheight('''Answer''') \n",
    "fig.set_figwidth('''Answer''') \n",
    "\n",
    "sm.ProbPlot(model_residuals).qqplot('''Answer''', \n",
    "                                    color='#1f77b4', \n",
    "                                    ax=ax) \n",
    "ax.title.set_text('''Answer''') "
   ]
  },
  {
   "cell_type": "code",
   "execution_count": null,
   "metadata": {},
   "outputs": [],
   "source": [
    "\"\"\" 오차의 등분산성 확인 \"\"\"\n",
    "\n",
    "\"\"\"\n",
    "1. residual plot으로 오차의 등분산성 확인\n",
    " - 이미지 너비 및 높이: 15\n",
    " - 추세선 표시\n",
    " - 투명도: 0.3\n",
    " - 추세선 색깔: Green\n",
    " - Figure 제목: Figure for Residuals and Fitted\n",
    " - x축 제목: Fitted values\n",
    " - y축 제목: Residuals\n",
    "\"\"\"\n",
    "\n",
    "model_fitted_y= lm_trained.fittedvalues\n",
    "\n",
    "fig, ax = plt.subplots(1, 1)\n",
    "fig.set_figheight('''Answer''')\n",
    "fig.set_figwidth('''Answer''')\n",
    "\n",
    "sns.residplot(x=model_fitted_y, \n",
    "              y=y_train, \n",
    "              lowess=True, \n",
    "              scatter_kws={'''Answer'''}, \n",
    "              line_kws={'''Answer'''}, \n",
    "              ax=ax)\n",
    "ax.title.set_text('''Answer''')\n",
    "ax.set(xlabel='''Answer''', ylabel='''Answer''')"
   ]
  },
  {
   "cell_type": "markdown",
   "metadata": {},
   "source": [
    "#### **3-3. 모델 평가 및 결과해석**"
   ]
  },
  {
   "cell_type": "code",
   "execution_count": null,
   "metadata": {},
   "outputs": [],
   "source": [
    "\"\"\" 모델 결과 해석 \"\"\"\n",
    "print(lm_trained.'''Answer''')"
   ]
  },
  {
   "cell_type": "code",
   "execution_count": null,
   "metadata": {},
   "outputs": [],
   "source": [
    "\"\"\" 모델 1차 성능 평가 (train data) \"\"\"\n",
    "\n",
    "\"\"\"\n",
    "1. 평가척도: MSE, RMSE, MAE, MAPE, R2\n",
    "\"\"\"\n",
    "\n",
    "def mean_absolute_percentage_error(y_true, y_pred):\n",
    "    y_true, y_pred = np.array(y_true), np.array(y_pred)\n",
    "    return '''Answer'''\n",
    "\n",
    "train_pred = lm_trained.'''Answer'''\n",
    "\n",
    "print('Training MSE: {:.3f}'.format('''Answer'''))\n",
    "print('Training RMSE: {:.3f}'.format('''Answer'''))\n",
    "print('Training MAE: {:.3f}'.format('''Answer'''))\n",
    "print('Training MAPE: {:.3f}'.format('''Answer'''))\n",
    "print('Training R2: {:.3f}'.format('''Answer'''))"
   ]
  },
  {
   "cell_type": "code",
   "execution_count": null,
   "metadata": {},
   "outputs": [],
   "source": [
    "\"\"\" 모델 1차 성능 평가 (test data) \"\"\"\n",
    "\n",
    "\"\"\"\n",
    "1. 평가척도: MSE, RMSE, MAE, MAPE, R2\n",
    "\"\"\"\n",
    "\n",
    "test_pred = lm_trained.predict(X_test)\n",
    "\n",
    "print('Testing MSE: {:.3f}'.format('''Answer'''))\n",
    "print('Testing RMSE: {:.3f}'.format('''Answer'''))\n",
    "print('Testing MAE: {:.3f}'.format('''Answer'''))\n",
    "print('Testing MAPE: {:.3f}'.format('''Answer'''))\n",
    "print('Testing R2: {:.3f}'.format('''Answer'''))"
   ]
  },
  {
   "cell_type": "code",
   "execution_count": null,
   "metadata": {},
   "outputs": [],
   "source": [
    "\"\"\" 유의미하지 않은 변수 제거 후, 다시 모델링 \"\"\"\n",
    "\n",
    "\"\"\"\n",
    "1. 유의수준 기준: 0.05\n",
    "\"\"\"\n",
    "\n",
    "\"\"\" 유의미하지 않은 변수들 식별 \"\"\"\n",
    "not_significants = '''Answer'''\n",
    "# not_significants = lm_trained.pvalues.index[lm_trained.pvalues > 0.05] ### solution2: 눈으로 일일이 식별하지 않고 쉽게 제거 가능\n",
    "print(f'유의미하지 않은 변수들: {not_significants}')\n",
    "\n",
    "\"\"\" 유의미하지 않은 변수들 제거 \"\"\"\n",
    "X_train_new = X_train.'''Answer'''\n",
    "X_test_new = X_test.'''Answer'''"
   ]
  },
  {
   "cell_type": "code",
   "execution_count": null,
   "metadata": {},
   "outputs": [],
   "source": [
    "\"\"\" 변수 제거 후, 모델 학습 결과 다시 확인 \"\"\"\n",
    "lm_new = sm.OLS('''Answer''')\n",
    "lm_new_trained = '''Answer'''\n",
    "print(lm_new_trained.summary())"
   ]
  },
  {
   "cell_type": "code",
   "execution_count": null,
   "metadata": {},
   "outputs": [],
   "source": [
    "\"\"\" 모델 2차 성능 평가 (train data) \"\"\"\n",
    "\n",
    "\"\"\"\n",
    "1. 평가척도: MSE, RMSE, MAE, MAPE, R2\n",
    "\"\"\"\n",
    "\n",
    "train_pred_new = lm_new_trained.predict(X_train_new)\n",
    "\n",
    "print('Training MSE: {:.3f}'.format(mean_squared_error(y_train, train_pred_new)))\n",
    "print('Training RMSE: {:.3f}'.format(np.sqrt(mean_squared_error(y_train, train_pred_new))))\n",
    "print('Training MAE: {:.3f}'.format(mean_absolute_error(y_train, train_pred_new)))\n",
    "print('Training MAPE: {:.3f}'.format(mean_absolute_percentage_error(y_train, train_pred_new)))\n",
    "print('Training R2: {:.3f}'.format(r2_score(y_train, train_pred_new)))"
   ]
  },
  {
   "cell_type": "code",
   "execution_count": null,
   "metadata": {},
   "outputs": [],
   "source": [
    "\"\"\" 모델 2차 성능 평가 (test data) \"\"\"\n",
    "\n",
    "\"\"\"\n",
    "1. 평가척도: MSE, RMSE, MAE, MAPE, R2\n",
    "\"\"\"\n",
    "\n",
    "test_pred_new = lm_new_trained.predict(X_test_new)\n",
    "\n",
    "print('Testing MSE: {:.3f}'.format(mean_squared_error(y_test, test_pred_new)))\n",
    "print('Testing RMSE: {:.3f}'.format(np.sqrt(mean_squared_error(y_test, test_pred_new))))\n",
    "print('Testing MAE: {:.3f}'.format(mean_absolute_error(y_test, test_pred_new)))\n",
    "print('Testing MAPE: {:.3f}'.format(mean_absolute_percentage_error(y_test, test_pred_new)))\n",
    "print('Testing R2: {:.3f}'.format(r2_score(y_test, test_pred_new)))"
   ]
  },
  {
   "cell_type": "markdown",
   "metadata": {},
   "source": [
    "## **Appendix. sklearn을 활용한 선형회귀모형 구축**"
   ]
  },
  {
   "cell_type": "code",
   "execution_count": null,
   "metadata": {},
   "outputs": [],
   "source": [
    "\"\"\" sklearn으로 모델 학습 및 예측 \"\"\"\n",
    "\n",
    "\"\"\"\n",
    "1. sklearn의 LinearRegression함수 활용하여 예측값까지 산출\n",
    " - 모델 내 상수항은 활용하지 않을 것\n",
    "\"\"\"\n",
    "\n",
    "lr_skl = LinearRegression(fit_intercept=False) \n",
    "lr_skl.fit(X_train, y_train) \n",
    "y_pred_skl = lr_skl.predict(X_test) \n"
   ]
  },
  {
   "cell_type": "code",
   "execution_count": null,
   "metadata": {},
   "outputs": [],
   "source": [
    "\"\"\" sklearn을 통한 회귀계수 확인\"\"\"\n",
    "lr_skl.coef_"
   ]
  },
  {
   "cell_type": "code",
   "execution_count": null,
   "metadata": {},
   "outputs": [],
   "source": [
    "\"\"\" sklearn 예측 결과 확인 \"\"\"\n",
    "\n",
    "\"\"\"\n",
    "1. 평가척도: MSE, RMSE, MAE, MAPE, R2\n",
    "\"\"\"\n",
    "\n",
    "test_mse_skl = mean_squared_error(y_test, y_pred_skl)\n",
    "test_rmse_skl = np.sqrt(mean_squared_error(y_test, y_pred_skl))\n",
    "test_mae_skl = mean_absolute_error(y_test, y_pred_skl)\n",
    "test_mape_skl = mean_absolute_percentage_error(y_test, y_pred_skl)\n",
    "test_r2_skl = r2_score(y_test, y_pred_skl)\n",
    "\n",
    "print('sklearn Testing MSE: {:.3f}'.format(test_mse_skl))\n",
    "print('sklearn Testing RMSE: {:.3f}'.format(test_rmse_skl))\n",
    "print('sklearn Testing MAE: {:.3f}'.format(test_mae_skl))\n",
    "print('sklearn Testing MAPE: {:.3f}'.format(test_mape_skl))\n",
    "print('sklearn Testing R2: {:.3f}'.format(test_r2_skl))"
   ]
  }
 ],
 "metadata": {
  "kernelspec": {
   "display_name": "Python 3",
   "language": "python",
   "name": "python3"
  },
  "language_info": {
   "codemirror_mode": {
    "name": "ipython",
    "version": 3
   },
   "file_extension": ".py",
   "mimetype": "text/x-python",
   "name": "python",
   "nbconvert_exporter": "python",
   "pygments_lexer": "ipython3",
   "version": "3.8.10"
  },
  "toc": {
   "base_numbering": 1,
   "nav_menu": {},
   "number_sections": true,
   "sideBar": true,
   "skip_h1_title": false,
   "title_cell": "Table of Contents",
   "title_sidebar": "Contents",
   "toc_cell": false,
   "toc_position": {},
   "toc_section_display": true,
   "toc_window_display": true
  },
  "vscode": {
   "interpreter": {
    "hash": "e7370f93d1d0cde622a1f8e1c04877d8463912d04d973331ad4851f04de6915a"
   }
  }
 },
 "nbformat": 4,
 "nbformat_minor": 2
}
